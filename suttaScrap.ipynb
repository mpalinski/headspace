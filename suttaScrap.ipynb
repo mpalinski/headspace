{
 "cells": [
  {
   "cell_type": "code",
   "execution_count": 7,
   "metadata": {},
   "outputs": [],
   "source": [
    "import pandas as pd\n",
    "import numpy as np\n",
    "import selenium\n",
    "from selenium import webdriver\n",
    "from selenium.common.exceptions import TimeoutException, WebDriverException, NoSuchElementException\n",
    "from selenium.webdriver.support.ui import WebDriverWait\n",
    "from time import sleep"
   ]
  },
  {
   "cell_type": "markdown",
   "metadata": {},
   "source": [
    "### Collect suttas' links"
   ]
  },
  {
   "cell_type": "code",
   "execution_count": 72,
   "metadata": {},
   "outputs": [],
   "source": [
    "driver=webdriver.Chrome()\n",
    "url='https://www.accesstoinsight.org/index-sutta.html'\n",
    "links=[]\n",
    "\n",
    "driver.get(url)\n",
    "\n",
    "conts=driver.find_elements_by_class_name('index')\n",
    "\n",
    "for cont in conts:\n",
    "    temp=cont.find_elements_by_tag_name('a')\n",
    "    for t in temp:\n",
    "        links.append(t.get_attribute('href'))\n",
    "\n",
    "driver.quit()"
   ]
  },
  {
   "cell_type": "code",
   "execution_count": 73,
   "metadata": {},
   "outputs": [
    {
     "data": {
      "text/plain": [
       "1269"
      ]
     },
     "execution_count": 73,
     "metadata": {},
     "output_type": "execute_result"
    }
   ],
   "source": [
    "len(links)"
   ]
  },
  {
   "cell_type": "code",
   "execution_count": 139,
   "metadata": {},
   "outputs": [
    {
     "name": "stdout",
     "output_type": "stream",
     "text": [
      "number of missing links: 3, total links number (without audio links): 1230\n"
     ]
    }
   ],
   "source": [
    "linksClean=[x for x in links if x is not None]\n",
    "matching=[s for s in linksClean if 'audio' not in s]\n",
    "match=[s for s in matching if 'index-sutta' not in s]\n",
    "# missing links & audio links\n",
    "print('number of missing links: '+str(len(links)-len(linksClean))+', total links number (without audio links): '+str(len(match)))"
   ]
  },
  {
   "cell_type": "code",
   "execution_count": 80,
   "metadata": {},
   "outputs": [],
   "source": [
    "df=pd.DataFrame({'Sutta_links':links})\n",
    "df.to_csv('suttaLinks.csv')"
   ]
  },
  {
   "cell_type": "code",
   "execution_count": 143,
   "metadata": {},
   "outputs": [
    {
     "name": "stdout",
     "output_type": "stream",
     "text": [
      "This is 0 sutta\n",
      "This is 10 sutta\n",
      "This is 20 sutta\n",
      "This is 30 sutta\n",
      "This is 40 sutta\n",
      "This is 50 sutta\n",
      "This is 60 sutta\n",
      "This is 70 sutta\n",
      "This is 80 sutta\n",
      "This is 90 sutta\n",
      "This is 100 sutta\n",
      "This is 110 sutta\n",
      "This is 120 sutta\n",
      "This is 130 sutta\n",
      "This is 140 sutta\n",
      "This is 150 sutta\n",
      "Message: \n",
      "\n",
      "This is 160 sutta\n",
      "This is 170 sutta\n",
      "This is 180 sutta\n",
      "This is 190 sutta\n",
      "This is 200 sutta\n",
      "This is 210 sutta\n",
      "This is 220 sutta\n",
      "This is 230 sutta\n",
      "This is 240 sutta\n",
      "This is 250 sutta\n",
      "This is 260 sutta\n",
      "This is 270 sutta\n",
      "This is 280 sutta\n",
      "This is 290 sutta\n",
      "This is 300 sutta\n",
      "This is 310 sutta\n",
      "This is 320 sutta\n",
      "Message: \n",
      "\n",
      "This is 330 sutta\n",
      "This is 340 sutta\n",
      "This is 350 sutta\n",
      "This is 360 sutta\n",
      "This is 370 sutta\n",
      "This is 380 sutta\n",
      "This is 390 sutta\n",
      "This is 400 sutta\n",
      "This is 410 sutta\n",
      "This is 420 sutta\n",
      "This is 430 sutta\n",
      "This is 440 sutta\n",
      "This is 450 sutta\n",
      "This is 460 sutta\n",
      "This is 470 sutta\n",
      "This is 480 sutta\n",
      "This is 490 sutta\n",
      "This is 500 sutta\n",
      "This is 510 sutta\n",
      "This is 520 sutta\n",
      "This is 530 sutta\n",
      "This is 540 sutta\n",
      "This is 550 sutta\n",
      "This is 560 sutta\n",
      "This is 570 sutta\n",
      "This is 580 sutta\n",
      "This is 590 sutta\n",
      "This is 600 sutta\n",
      "This is 610 sutta\n",
      "This is 620 sutta\n",
      "This is 630 sutta\n",
      "This is 640 sutta\n",
      "This is 650 sutta\n",
      "This is 660 sutta\n",
      "This is 670 sutta\n",
      "This is 680 sutta\n",
      "This is 690 sutta\n",
      "This is 700 sutta\n",
      "This is 710 sutta\n",
      "This is 720 sutta\n",
      "This is 730 sutta\n",
      "This is 740 sutta\n",
      "This is 750 sutta\n",
      "This is 760 sutta\n",
      "This is 770 sutta\n",
      "This is 780 sutta\n",
      "This is 790 sutta\n",
      "This is 800 sutta\n",
      "This is 810 sutta\n",
      "This is 820 sutta\n",
      "This is 830 sutta\n",
      "This is 840 sutta\n",
      "This is 850 sutta\n",
      "This is 860 sutta\n",
      "This is 870 sutta\n",
      "This is 880 sutta\n",
      "This is 890 sutta\n",
      "This is 900 sutta\n",
      "This is 910 sutta\n",
      "This is 920 sutta\n",
      "This is 930 sutta\n",
      "This is 940 sutta\n",
      "This is 950 sutta\n",
      "This is 960 sutta\n",
      "This is 970 sutta\n",
      "This is 980 sutta\n",
      "This is 990 sutta\n",
      "This is 1000 sutta\n",
      "Message: \n",
      "\n",
      "This is 1010 sutta\n",
      "This is 1020 sutta\n",
      "This is 1030 sutta\n",
      "This is 1040 sutta\n",
      "Message: \n",
      "\n",
      "This is 1050 sutta\n",
      "This is 1060 sutta\n",
      "This is 1070 sutta\n",
      "This is 1080 sutta\n",
      "This is 1090 sutta\n",
      "This is 1100 sutta\n",
      "This is 1110 sutta\n",
      "This is 1120 sutta\n",
      "This is 1130 sutta\n",
      "This is 1140 sutta\n",
      "This is 1150 sutta\n",
      "This is 1160 sutta\n",
      "This is 1170 sutta\n",
      "This is 1180 sutta\n",
      "This is 1190 sutta\n",
      "This is 1200 sutta\n",
      "This is 1210 sutta\n",
      "This is 1220 sutta\n",
      "Message: \n",
      "\n",
      "Message: \n",
      "\n"
     ]
    }
   ],
   "source": [
    "driver = webdriver.Chrome()\n",
    "\n",
    "texts=[]\n",
    "titles=[]\n",
    "\n",
    "for no, link in enumerate(match):\n",
    "    try:\n",
    "        driver.get(link)\n",
    "        WebDriverWait(driver, 100).until( lambda driver: driver.find_element_by_class_name('chapter'))\n",
    "        try:\n",
    "            title = driver.find_element_by_id('H_docTitle').text\n",
    "        except:\n",
    "            title = np.nan\n",
    "        try:\n",
    "            text = driver.find_element_by_class_name('chapter').text\n",
    "        except NoChapter:\n",
    "            text = driver.find_element_by_class_name('freeverse').text\n",
    "        except NoElements:\n",
    "            text = np.nan\n",
    "        \n",
    "        titles.append(title)\n",
    "        texts.append(text)\n",
    "        \n",
    "        sleep(1)\n",
    "        if no % 10 ==0:\n",
    "            print('This is'+' '+str(no)+' '+'sutta')\n",
    "    \n",
    "    except TimeoutException as ex:\n",
    "        print(ex)\n",
    "        links.append(link)\n",
    "    \n",
    "driver.quit()"
   ]
  },
  {
   "cell_type": "code",
   "execution_count": 146,
   "metadata": {},
   "outputs": [],
   "source": [
    "textsAll=texts+titles\n",
    "suttas=pd.DataFrame(\n",
    "    {'text': textsAll,\n",
    "    })"
   ]
  },
  {
   "cell_type": "code",
   "execution_count": 152,
   "metadata": {},
   "outputs": [],
   "source": [
    "suttas.to_csv('./texts/suttas.csv')"
   ]
  },
  {
   "cell_type": "code",
   "execution_count": null,
   "metadata": {},
   "outputs": [],
   "source": []
  },
  {
   "cell_type": "code",
   "execution_count": null,
   "metadata": {},
   "outputs": [],
   "source": []
  },
  {
   "cell_type": "code",
   "execution_count": null,
   "metadata": {},
   "outputs": [],
   "source": []
  },
  {
   "cell_type": "code",
   "execution_count": null,
   "metadata": {},
   "outputs": [],
   "source": []
  }
 ],
 "metadata": {
  "kernelspec": {
   "display_name": "Python [conda env:myPython]",
   "language": "python",
   "name": "conda-env-myPython-py"
  },
  "language_info": {
   "codemirror_mode": {
    "name": "ipython",
    "version": 3
   },
   "file_extension": ".py",
   "mimetype": "text/x-python",
   "name": "python",
   "nbconvert_exporter": "python",
   "pygments_lexer": "ipython3",
   "version": "3.5.2"
  }
 },
 "nbformat": 4,
 "nbformat_minor": 2
}
