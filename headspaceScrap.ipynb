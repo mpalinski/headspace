{
 "cells": [
  {
   "cell_type": "code",
   "execution_count": 2,
   "metadata": {
    "collapsed": false
   },
   "outputs": [
    {
     "data": {
      "application/javascript": [
       "if (!(\"Notification\" in window)) {\n",
       "    alert(\"This browser does not support desktop notifications, so the %%notify magic will not work.\");\n",
       "} else if (Notification.permission !== 'granted' && Notification.permission !== 'denied') {\n",
       "    Notification.requestPermission(function (permission) {\n",
       "        if(!('permission' in Notification)) {\n",
       "            Notification.permission = permission;\n",
       "        }\n",
       "    })\n",
       "}\n"
      ],
      "text/plain": [
       "<IPython.core.display.Javascript object>"
      ]
     },
     "metadata": {},
     "output_type": "display_data"
    }
   ],
   "source": [
    "import os\n",
    "import selenium\n",
    "from selenium import webdriver\n",
    "from selenium.common.exceptions import TimeoutException, WebDriverException, NoSuchElementException\n",
    "from selenium.webdriver.support.ui import WebDriverWait\n",
    "from time import sleep\n",
    "from numpy.random import uniform\n",
    "import pandas as pd\n",
    "import numpy as np\n",
    "from datetime import datetime\n",
    "from dateutil.relativedelta import relativedelta\n",
    "import jupyternotify\n",
    "import seaborn as sns\n",
    "import matplotlib.pyplot as plt\n",
    "ip = get_ipython()\n",
    "ip.register_magics(jupyternotify.JupyterNotifyMagics)"
   ]
  },
  {
   "cell_type": "code",
   "execution_count": 3,
   "metadata": {
    "collapsed": false
   },
   "outputs": [
    {
     "name": "stdout",
     "output_type": "stream",
     "text": [
      "------------------------------------------------------\n",
      "https://www.headspace.com/blog/2018/05/22/how-do-you-speak-to-yourself/\n",
      "------------------------------------------------------\n",
      "https://www.headspace.com/blog/2018/04/13/derrick-morgans-mindfulness-in-the-nfl/\n",
      "------------------------------------------------------\n",
      "https://www.headspace.com/blog/2018/04/11/mental-health-in-the-workplace/\n",
      "------------------------------------------------------\n"
     ]
    }
   ],
   "source": [
    "# test\n",
    "driver = webdriver.Chrome()\n",
    "url = \"https://www.headspace.com/blog/\"\n",
    "\n",
    "driver.get(url)\n",
    "WebDriverWait(driver, 100).until( lambda driver: driver.find_element_by_class_name('content__inner'))\n",
    "divs = driver.find_element_by_class_name('content__inner')\n",
    "rows = divs.find_elements_by_class_name('more-post') \n",
    "print('------------------------------------------------------')\n",
    "for row in rows:\n",
    "    link=row.find_element_by_tag_name('a')\n",
    "    print(link.get_attribute('href'))\n",
    "    #print(row.text)\n",
    "    print('------------------------------------------------------')\n",
    "\n",
    "driver.quit()"
   ]
  },
  {
   "cell_type": "markdown",
   "metadata": {},
   "source": [
    "## Stage 1: Collecting blog categories"
   ]
  },
  {
   "cell_type": "code",
   "execution_count": 5,
   "metadata": {
    "collapsed": false
   },
   "outputs": [
    {
     "name": "stdout",
     "output_type": "stream",
     "text": [
      "https://www.headspace.com/blog/category/meditation/\n",
      "https://www.headspace.com/blog/category/living/\n",
      "https://www.headspace.com/blog/category/health/\n",
      "https://www.headspace.com/blog/category/sport/\n",
      "https://www.headspace.com/blog/category/work/\n",
      "https://www.headspace.com/blog/category/birth/\n",
      "https://www.headspace.com/blog/category/death/\n",
      "https://www.headspace.com/blog/category/watch-listen/\n",
      "https://www.headspace.com/blog/#\n"
     ]
    }
   ],
   "source": [
    "driver = webdriver.Chrome()\n",
    "url = \"https://www.headspace.com/blog/\"\n",
    "categories=[]\n",
    "\n",
    "if __name__ == \"__main__\":\n",
    "    driver.get(url)\n",
    "WebDriverWait(driver, 100).until( lambda driver: driver.find_element_by_class_name('header__bottom'))\n",
    "\n",
    "sleep(2)\n",
    "\n",
    "cats = driver.find_element_by_class_name('menu-main-navigation-container')\n",
    "elems = cats.find_elements_by_tag_name('a')\n",
    "\n",
    "sleep(2)\n",
    "\n",
    "for elem in elems:\n",
    "    print(elem.get_attribute('href'))\n",
    "    categories.append(elem.get_attribute('href'))\n",
    "driver.quit()"
   ]
  },
  {
   "cell_type": "code",
   "execution_count": 6,
   "metadata": {
    "collapsed": false
   },
   "outputs": [
    {
     "data": {
      "text/plain": [
       "['https://www.headspace.com/blog/category/meditation/',\n",
       " 'https://www.headspace.com/blog/category/living/',\n",
       " 'https://www.headspace.com/blog/category/health/',\n",
       " 'https://www.headspace.com/blog/category/sport/',\n",
       " 'https://www.headspace.com/blog/category/work/',\n",
       " 'https://www.headspace.com/blog/category/death/',\n",
       " 'https://www.headspace.com/blog/category/watch-listen/']"
      ]
     },
     "execution_count": 6,
     "metadata": {},
     "output_type": "execute_result"
    }
   ],
   "source": [
    "# first 6 articles we collect using 'related-post' next using 'more-post'\n",
    "# for birth category only 'related-post' works, load more button does not work\n",
    "# last category '#' is not relevant -> we drop it\n",
    "catFirstArt=categories[:8]\n",
    "categories=categories[:5]+categories[6:-1]\n",
    "categories"
   ]
  },
  {
   "cell_type": "code",
   "execution_count": 7,
   "metadata": {
    "collapsed": false
   },
   "outputs": [],
   "source": [
    "# %%notify\n",
    "\n",
    "# Collect first 6 articles in each cat\n",
    "\n",
    "driver = webdriver.Chrome()\n",
    "linkListFirstArt=[]\n",
    "\n",
    "for url in catFirstArt:\n",
    "    if __name__ == \"__main__\":\n",
    "        driver.get(url)\n",
    "    WebDriverWait(driver, 100).until( lambda driver: driver.find_element_by_class_name('category__content'))\n",
    "\n",
    "    sleep(5)\n",
    "\n",
    "    divs = driver.find_element_by_class_name('category__content')\n",
    "    rows = divs.find_elements_by_class_name('related-post') \n",
    "\n",
    "    for row in rows:\n",
    "        link=row.find_element_by_tag_name('a')\n",
    "        #print(link.get_attribute('href'))\n",
    "        linkListFirstArt.append(link.get_attribute('href'))\n",
    "driver.quit()"
   ]
  },
  {
   "cell_type": "code",
   "execution_count": 8,
   "metadata": {
    "collapsed": false
   },
   "outputs": [
    {
     "data": {
      "text/plain": [
       "True"
      ]
     },
     "execution_count": 8,
     "metadata": {},
     "output_type": "execute_result"
    }
   ],
   "source": [
    "# check\n",
    "len(linkListFirstArt)/len(catFirstArt)==6"
   ]
  },
  {
   "cell_type": "code",
   "execution_count": 9,
   "metadata": {
    "collapsed": false
   },
   "outputs": [
    {
     "name": "stdout",
     "output_type": "stream",
     "text": [
      "Message: element not visible\n",
      "  (Session info: chrome=67.0.3396.99)\n",
      "  (Driver info: chromedriver=2.36.540469 (1881fd7f8641508feb5166b7cae561d87723cfa8),platform=Mac OS X 10.13.4 x86_64)\n",
      "\n",
      "Done!\n",
      "Message: element not visible\n",
      "  (Session info: chrome=67.0.3396.99)\n",
      "  (Driver info: chromedriver=2.36.540469 (1881fd7f8641508feb5166b7cae561d87723cfa8),platform=Mac OS X 10.13.4 x86_64)\n",
      "\n",
      "Done!\n",
      "Message: element not visible\n",
      "  (Session info: chrome=67.0.3396.99)\n",
      "  (Driver info: chromedriver=2.36.540469 (1881fd7f8641508feb5166b7cae561d87723cfa8),platform=Mac OS X 10.13.4 x86_64)\n",
      "\n",
      "Done!\n",
      "Message: element not visible\n",
      "  (Session info: chrome=67.0.3396.99)\n",
      "  (Driver info: chromedriver=2.36.540469 (1881fd7f8641508feb5166b7cae561d87723cfa8),platform=Mac OS X 10.13.4 x86_64)\n",
      "\n",
      "Done!\n",
      "Message: element not visible\n",
      "  (Session info: chrome=67.0.3396.99)\n",
      "  (Driver info: chromedriver=2.36.540469 (1881fd7f8641508feb5166b7cae561d87723cfa8),platform=Mac OS X 10.13.4 x86_64)\n",
      "\n",
      "Done!\n",
      "Message: element not visible\n",
      "  (Session info: chrome=67.0.3396.99)\n",
      "  (Driver info: chromedriver=2.36.540469 (1881fd7f8641508feb5166b7cae561d87723cfa8),platform=Mac OS X 10.13.4 x86_64)\n",
      "\n",
      "Done!\n",
      "Message: element not visible\n",
      "  (Session info: chrome=67.0.3396.99)\n",
      "  (Driver info: chromedriver=2.36.540469 (1881fd7f8641508feb5166b7cae561d87723cfa8),platform=Mac OS X 10.13.4 x86_64)\n",
      "\n",
      "Done!\n"
     ]
    }
   ],
   "source": [
    "# %%notify\n",
    "\n",
    "# We collect the rest of artciles\n",
    "# We finish once we get: 'Message: element not visible'\n",
    "\n",
    "driver = webdriver.Chrome()\n",
    "linkList=[]\n",
    "\n",
    "for url in categories:\n",
    "    if __name__ == \"__main__\":\n",
    "        driver.get(url)\n",
    "    WebDriverWait(driver, 100).until( lambda driver: driver.find_element_by_class_name('category__content'))\n",
    "\n",
    "    while True:\n",
    "        try:\n",
    "            loadMoreButton=driver.find_element_by_class_name('readmore')\n",
    "            sleep(2)\n",
    "            loadMoreButton.click()\n",
    "            sleep(3)\n",
    "        except Exception as e:\n",
    "            print(e)\n",
    "            break\n",
    "    print('Done!')\n",
    "\n",
    "    sleep(3)\n",
    "\n",
    "    divs = driver.find_element_by_class_name('category__content')\n",
    "    rows = divs.find_elements_by_class_name('more-post') \n",
    "\n",
    "    for row in rows:\n",
    "        link=row.find_element_by_tag_name('a')\n",
    "        #print(link.get_attribute('href'))\n",
    "        linkList.append(link.get_attribute('href'))\n",
    "driver.quit()"
   ]
  },
  {
   "cell_type": "code",
   "execution_count": 10,
   "metadata": {
    "collapsed": false
   },
   "outputs": [
    {
     "data": {
      "text/plain": [
       "0.7414448669201521"
      ]
     },
     "execution_count": 10,
     "metadata": {},
     "output_type": "execute_result"
    }
   ],
   "source": [
    "# unique part of links (some articles might be included in two cats)\n",
    "len(pd.Series(linkList).unique())/len(linkList)"
   ]
  },
  {
   "cell_type": "code",
   "execution_count": 11,
   "metadata": {
    "collapsed": false
   },
   "outputs": [
    {
     "data": {
      "text/plain": [
       "1315"
      ]
     },
     "execution_count": 11,
     "metadata": {},
     "output_type": "execute_result"
    }
   ],
   "source": [
    "len(linkList)"
   ]
  },
  {
   "cell_type": "code",
   "execution_count": 12,
   "metadata": {
    "collapsed": false
   },
   "outputs": [],
   "source": [
    "# linking first articles with the rest\n",
    "links=linkList+linkListFirstArt\n",
    "linksUniq=pd.Series(links).unique()"
   ]
  },
  {
   "cell_type": "code",
   "execution_count": 13,
   "metadata": {},
   "outputs": [
    {
     "data": {
      "text/plain": [
       "1013"
      ]
     },
     "execution_count": 13,
     "metadata": {},
     "output_type": "execute_result"
    }
   ],
   "source": [
    "len(linksUniq)"
   ]
  },
  {
   "cell_type": "code",
   "execution_count": 14,
   "metadata": {
    "collapsed": true
   },
   "outputs": [],
   "source": [
    "df = pd.DataFrame({'Headspace links':linksUniq})\n",
    "df.to_excel('hsLinks_2407.xlsx')"
   ]
  },
  {
   "cell_type": "markdown",
   "metadata": {},
   "source": [
    "## Stage 2: Scraping articles from S1 links"
   ]
  },
  {
   "cell_type": "code",
   "execution_count": 15,
   "metadata": {
    "collapsed": false
   },
   "outputs": [],
   "source": [
    "# %%notify\n",
    "\n",
    "driver = webdriver.Chrome()\n",
    "text=[]\n",
    "cat=[]\n",
    "author=[]\n",
    "title=[]\n",
    "\n",
    "for link in linksUniq:\n",
    "    if __name__ == \"__main__\":\n",
    "        driver.get(link)\n",
    "    WebDriverWait(driver, 100).until( lambda driver: driver.find_element_by_class_name('content__inner'))\n",
    "    \n",
    "    sleep(4)\n",
    "    \n",
    "    titles = driver.find_element_by_class_name('single__header-title').text\n",
    "    cats = driver.find_element_by_class_name('single__header-categories').text\n",
    "    authors = driver.find_element_by_class_name('single__header-author').find_element_by_tag_name('a').text\n",
    "    texts = driver.find_element_by_class_name('content__inner').text\n",
    "\n",
    "    title.append(titles)\n",
    "    cat.append(cats)\n",
    "    author.append(authors)\n",
    "    text.append(texts)\n",
    "    \n",
    "driver.quit()"
   ]
  },
  {
   "cell_type": "code",
   "execution_count": 16,
   "metadata": {
    "collapsed": false
   },
   "outputs": [
    {
     "data": {
      "text/html": [
       "<div>\n",
       "<style scoped>\n",
       "    .dataframe tbody tr th:only-of-type {\n",
       "        vertical-align: middle;\n",
       "    }\n",
       "\n",
       "    .dataframe tbody tr th {\n",
       "        vertical-align: top;\n",
       "    }\n",
       "\n",
       "    .dataframe thead th {\n",
       "        text-align: right;\n",
       "    }\n",
       "</style>\n",
       "<table border=\"1\" class=\"dataframe\">\n",
       "  <thead>\n",
       "    <tr style=\"text-align: right;\">\n",
       "      <th></th>\n",
       "      <th>author</th>\n",
       "      <th>category</th>\n",
       "      <th>link</th>\n",
       "      <th>text</th>\n",
       "      <th>title</th>\n",
       "      <th>year</th>\n",
       "      <th>date</th>\n",
       "    </tr>\n",
       "  </thead>\n",
       "  <tbody>\n",
       "    <tr>\n",
       "      <th>0</th>\n",
       "      <td>Andy Puddicombe</td>\n",
       "      <td>HEALTH / MEDITATION</td>\n",
       "      <td>https://www.headspace.com/blog/2018/01/10/comp...</td>\n",
       "      <td>Editor’s Note: Below is an excerpt from Mindfu...</td>\n",
       "      <td>The complex relationship between your mind and...</td>\n",
       "      <td>2018</td>\n",
       "      <td>[2018, 01, 10]</td>\n",
       "    </tr>\n",
       "    <tr>\n",
       "      <th>1</th>\n",
       "      <td>Mae Elizabeth Gurene</td>\n",
       "      <td>LIVING / MEDITATION</td>\n",
       "      <td>https://www.headspace.com/blog/2017/12/05/not-...</td>\n",
       "      <td>“I don’t care if I’m scared of a plastic bag. ...</td>\n",
       "      <td>“I realized this year that maybe I’m not as gr...</td>\n",
       "      <td>2017</td>\n",
       "      <td>[2017, 12, 05]</td>\n",
       "    </tr>\n",
       "    <tr>\n",
       "      <th>2</th>\n",
       "      <td>Gemma Hartley</td>\n",
       "      <td>HEALTH / MEDITATION</td>\n",
       "      <td>https://www.headspace.com/blog/2017/11/27/boos...</td>\n",
       "      <td>I still remember the first week I tried medita...</td>\n",
       "      <td>How to boost your brain power, no matter your age</td>\n",
       "      <td>2017</td>\n",
       "      <td>[2017, 11, 27]</td>\n",
       "    </tr>\n",
       "    <tr>\n",
       "      <th>3</th>\n",
       "      <td>Laura Riley</td>\n",
       "      <td>HEALTH / MEDITATION</td>\n",
       "      <td>https://www.headspace.com/blog/2017/11/06/mind...</td>\n",
       "      <td>A Mindful Pregnancy is a blog series that will...</td>\n",
       "      <td>A Mindful Pregnancy: Weeks 1-7</td>\n",
       "      <td>2017</td>\n",
       "      <td>[2017, 11, 06]</td>\n",
       "    </tr>\n",
       "    <tr>\n",
       "      <th>4</th>\n",
       "      <td>George Bell</td>\n",
       "      <td>HEALTH / MEDITATION</td>\n",
       "      <td>https://www.headspace.com/blog/2017/11/04/medi...</td>\n",
       "      <td>The World Health Organization recently listed ...</td>\n",
       "      <td>What it’s like to meditate with depression</td>\n",
       "      <td>2017</td>\n",
       "      <td>[2017, 11, 04]</td>\n",
       "    </tr>\n",
       "  </tbody>\n",
       "</table>\n",
       "</div>"
      ],
      "text/plain": [
       "                 author             category  \\\n",
       "0       Andy Puddicombe  HEALTH / MEDITATION   \n",
       "1  Mae Elizabeth Gurene  LIVING / MEDITATION   \n",
       "2         Gemma Hartley  HEALTH / MEDITATION   \n",
       "3           Laura Riley  HEALTH / MEDITATION   \n",
       "4           George Bell  HEALTH / MEDITATION   \n",
       "\n",
       "                                                link  \\\n",
       "0  https://www.headspace.com/blog/2018/01/10/comp...   \n",
       "1  https://www.headspace.com/blog/2017/12/05/not-...   \n",
       "2  https://www.headspace.com/blog/2017/11/27/boos...   \n",
       "3  https://www.headspace.com/blog/2017/11/06/mind...   \n",
       "4  https://www.headspace.com/blog/2017/11/04/medi...   \n",
       "\n",
       "                                                text  \\\n",
       "0  Editor’s Note: Below is an excerpt from Mindfu...   \n",
       "1  “I don’t care if I’m scared of a plastic bag. ...   \n",
       "2  I still remember the first week I tried medita...   \n",
       "3  A Mindful Pregnancy is a blog series that will...   \n",
       "4  The World Health Organization recently listed ...   \n",
       "\n",
       "                                               title  year            date  \n",
       "0  The complex relationship between your mind and...  2018  [2018, 01, 10]  \n",
       "1  “I realized this year that maybe I’m not as gr...  2017  [2017, 12, 05]  \n",
       "2  How to boost your brain power, no matter your age  2017  [2017, 11, 27]  \n",
       "3                     A Mindful Pregnancy: Weeks 1-7  2017  [2017, 11, 06]  \n",
       "4         What it’s like to meditate with depression  2017  [2017, 11, 04]  "
      ]
     },
     "execution_count": 16,
     "metadata": {},
     "output_type": "execute_result"
    }
   ],
   "source": [
    "hs = pd.DataFrame(\n",
    "    {'text': text,\n",
    "     'category': cat,\n",
    "     'author': author,\n",
    "     'link': linksUniq,\n",
    "     'title': title\n",
    "    })\n",
    "\n",
    "hs['year'] = hs['link'].values\n",
    "hs['year'] = hs['year'].str.replace('https://www.headspace.com/blog/', '')\n",
    "hs['year'] = hs['year'].str.split('/').str[0]\n",
    "hs['date'] = hs['link'].values\n",
    "hs['date'] = hs['date'].str.replace('https://www.headspace.com/blog/', '')\n",
    "hs['date'] = hs['date'].str.split('/').str[0:3].values\n",
    "\n",
    "hs.head()"
   ]
  },
  {
   "cell_type": "code",
   "execution_count": 17,
   "metadata": {
    "collapsed": false
   },
   "outputs": [],
   "source": [
    "hs.to_excel('headspace_0724.xlsx')"
   ]
  },
  {
   "cell_type": "code",
   "execution_count": 18,
   "metadata": {
    "collapsed": false
   },
   "outputs": [
    {
     "data": {
      "text/plain": [
       "1013"
      ]
     },
     "execution_count": 18,
     "metadata": {},
     "output_type": "execute_result"
    }
   ],
   "source": [
    "len(hs)"
   ]
  },
  {
   "cell_type": "code",
   "execution_count": 26,
   "metadata": {},
   "outputs": [
    {
     "data": {
      "text/plain": [
       "array(['HEALTH / MEDITATION', 'LIVING / MEDITATION', 'MEDITATION',\n",
       "       'BIRTH / MEDITATION', 'MEDITATION / SPORT', 'MEDITATION / WORK',\n",
       "       'HEALTH / MEDITATION / SPORT', 'HEALTH / LIVING / MEDITATION',\n",
       "       'MEDITATION / WATCH & LISTEN', 'HEALTH / MEDITATION / WORK',\n",
       "       'LIVING / MEDITATION / WORK', 'LIVING / MEDITATION / UNCATEGORIZED',\n",
       "       'HEALTH / MEDITATION / WATCH & LISTEN',\n",
       "       'LIVING / MEDITATION / WATCH & LISTEN', 'HEALTH / LIVING', 'LIVING',\n",
       "       'DEATH / LIVING', 'LIVING / WORK', 'LIVING / SPORT',\n",
       "       'LIVING / WATCH & LISTEN', 'HEALTH / LIVING / SPORT',\n",
       "       'LIVING / MEDITATION / SPORT', 'HEALTH / LIVING / WATCH & LISTEN',\n",
       "       'HEALTH / SPORT', 'HEALTH', 'HEALTH / MIND', 'HEALTH / WORK',\n",
       "       'SPORT', 'SPORT / WORK', 'WORK', 'DEATH / WORK', 'DEATH',\n",
       "       'DEATH / MIND', 'BIRTH / DEATH', 'WATCH & LISTEN', 'BIRTH'], dtype=object)"
      ]
     },
     "execution_count": 26,
     "metadata": {},
     "output_type": "execute_result"
    }
   ],
   "source": [
    "hs['category'].unique()"
   ]
  },
  {
   "cell_type": "markdown",
   "metadata": {},
   "source": [
    "## We select articles for qualitative analysis: 1. random selection using pseudo-random numbers generator; 2. selection based on co-occurrence analysis"
   ]
  },
  {
   "cell_type": "code",
   "execution_count": 32,
   "metadata": {},
   "outputs": [],
   "source": [
    "work=hs[hs['category']=='WORK']\n",
    "living=hs[hs['category']=='LIVING']\n",
    "death=hs[hs['category']=='DEATH']\n",
    "health=hs[hs['category']=='HEALTH']"
   ]
  },
  {
   "cell_type": "code",
   "execution_count": 55,
   "metadata": {},
   "outputs": [],
   "source": [
    "cat=[work,living,death,health]"
   ]
  },
  {
   "cell_type": "code",
   "execution_count": 62,
   "metadata": {},
   "outputs": [],
   "source": [
    "li=[]\n",
    "for c in cat:\n",
    "    li.append(c.sample(5, random_state=1))"
   ]
  },
  {
   "cell_type": "code",
   "execution_count": 63,
   "metadata": {},
   "outputs": [],
   "source": [
    "rdf=pd.concat(li)"
   ]
  },
  {
   "cell_type": "code",
   "execution_count": 65,
   "metadata": {},
   "outputs": [],
   "source": [
    "rdf.to_excel('random_articles.xlsx')"
   ]
  },
  {
   "cell_type": "code",
   "execution_count": 36,
   "metadata": {
    "collapsed": false
   },
   "outputs": [
    {
     "name": "stdout",
     "output_type": "stream",
     "text": [
      "https://www.headspace.com/blog/2018/01/10/complex-relationship-mind-belly/\n",
      "\n",
      "Author: Andy Puddicombe\n",
      "\n",
      "Title: The complex relationship between your mind and belly, and how to take control\n",
      "\n",
      "Publication year: 2018\n",
      "\n",
      "Editor’s Note: Below is an excerpt from Mindful Eating, a book written by Headspace’s co-founder and former monk Andy Puddicombe. I hope you find it as useful as I did when I first read the book. \n",
      "How often do you think about it? About food, that is. Seriously, on any given day, how many times do you think about food or the effect food has on your body? \n",
      "Not just what you want to eat, but also what you ate in the past or what you plan to eat in the future? Be sure to include the number of times you wish you hadn’t eaten something in the past, and also what you’re planning not to eat in the future. Now add to that every thought you ever have about your body image and the way you look. That includes every thought expressing contentment with how you look, as well as every thought in which you wished you looked different. Hard to measure, I know, but how many thoughts a day do you think that is?\n",
      "Research figures vary on this question, reporting that the number of thoughts that people have about food alone can be anything up to 200 a day. Although, having done a great deal of research for this book, I suspect that figure may well be substantially higher, especially when thoughts about body image are thrown into the mix.\n",
      "The physical action of reaching out for food and putting it in your mouth does not happen by accident.\n",
      "For many, food is the first thing they think of in the morning and their body image is the last thing they think of at night. These thoughts stand like bookends at either end of the day, sandwiching feelings of craving and resistance, appreciation and discomfort, satisfaction and guilt. In fact, it’s hard to imagine another topic that consumes more of our valuable headspace. Now that’s not to say that there’s anything inherently wrong with daydreaming about chocolate fudge cake, in fact it’s quite normal. It’s just that if the wandering mind is left unchecked, it can lead us down a path that we’ll probably later regret. Oh, and just in case you’re wondering about any other potential contender for this top spot, apparently women report thinking about food at least twice as many times as they think about sex. And whilst for men that figure is lower, food still just tops the stakes in the overall thought-count.\n",
      "Over the years there’s been a huge amount of public education on what foods we should eat and what we shouldn’t, which foods are healthy and which foods are unhealthy. This is a good thing. This is information that everyone should possess. Admittedly, this information is often a little conflicting, and a ‘superfood’ hailed one week for its cancer-preventing, fertility-enhancing, fat-metabolizing properties will, almost inevitably, later be dismissed for its cancer-inducing, sterility-promoting, obesity-causing qualities. But on the whole, most of us now know what we need to eat to be healthy, right? We know the rules, we know what foods promote good health and we know what foods, when consumed in excessive quantities, tend to lead towards weight-gain, obesity, hypertension and heart disease.\n",
      "And yet nothing changes. The number of people who are overweight continues to rise, the number of people who are obese continues to rise, as do the number of people suffering from heart disease, diabetes, eating disorders, allergies, intolerances and everything in-between. So why is this happening and what can we do about it? The starting point is to recognize that in situations when we have freedom of choice (and there are many sections of society where this is not always the case), the food itself is not the root cause of obesity, or of being overweight. Sure, it plays an important part, but the decision of what to consume stems from our own mind. Whilst it may well be influenced by many contributing factors, the decision to choose ‘this’ food over ‘that’ comes from a thought, a feeling, and the willingness to engage and follow that thought or feeling.\n",
      "Now this isn’t an excuse to beat yourself up for the way you eat or the way you look. The mind is a powerful thing and, untrained, is a slave to both emotion and habit, which can feel so overwhelming. Remember, this isn’t about blaming yourself (or anyone else). This is about trying to understand the root of the problem, so that you can create the conditions for positive change in the future. Food is simply the object of fascination and distraction, it is not the cause of it. It has no real power in and of itself; it just sits there, waiting to be eaten (or not eaten). The decision whether to eat it is ultimately yours alone. And this is important, because if the decision is yours, then you have freedom, you have the potential for change, the potential to be happy with who you are and how you look, at a weight that is comfortable, natural and right for you.\n",
      "The mind is a powerful thing and, untrained, is a slave to both emotion and habit.\n",
      "The processes at play in the mind are surprisingly straightforward, it’s just that usually everything is happening so fast that there’s not really time to take it all in. The physical action of reaching out for food and putting it in your mouth does not happen by accident. For a hand to reach out and pick up that next slice of pizza, tub of ice cream or glass of wine, it requires a signal from the brain. This signal might have been prompted by any number of thoughts, emotions, or physical sensations, and in many ways it doesn’t really matter which of those it was. The important thing is that we create enough headspace and clarity to ensure that we don’t necessarily follow that impulse. But, again, why does it happen in the first place? Why do we do what we so desperately don’t want to do? And why do we so often feel powerless to resist the urge of a fleeting emotion?\n",
      "In order to answer these questions, we need to be able to observe the mind with a clear sense of awareness. We need to be able to see it, to understand it, and then fundamentally change the way in which we relate to it. That’s why the practice, or technique, of mindfulness is so important in helping you to achieve a healthy relationship with food, your body, and your weight. It allows you to examine the root cause of any problem at source, and to take the appropriate action (or inaction, as the case may sometimes be), rather than waiting until you have a basket full of unhealthy food that you try to talk yourself out of buying.\n",
      "To read the rest, get the book here.\n",
      "\n",
      "https://www.headspace.com/blog/2017/12/05/not-great-at-listening/\n",
      "\n",
      "Author: Mae Elizabeth Gurene\n",
      "\n",
      "Title: “I realized this year that maybe I’m not as great at listening as I thought.”\n",
      "\n",
      "Publication year: 2017\n",
      "\n",
      "“I don’t care if I’m scared of a plastic bag. If it bothers me, you should respect that no matter how silly it seems.” A friend of mine used that as an example when trying to get his boyfriend to understand his anxious thoughts and the importance of being supportive even if it didn’t make sense to him. (What goes on in our minds can seem completely ridiculous to others, but that doesn’t make it wrong).\n",
      "That example has stuck with me and I’ve since used it when describing my (seemingly irrational) fears to my others.\n",
      "My daily life is on display because I regularly blog and use social media often—posting about my life regardless if anyone asks. Although I feel like I’m great at sharing, I realized this year that maybe I’m not as great at listening as I thought. Like finding out that my boyfriend also has anxiety. Years into our relationship, how did I not recognize this? Did I assume that if someone also had it they would just tell me? What if they didn’t know either? Instead of being compassionate that something might be wrong, I took it personally.\n",
      "I incorporate actions large and small in order to keep my anxiety under control including taking medication, practicing meditation, and even making sure I don’t watch a scary movie during a particularly rough week. I’m more than willing to share my struggles with anyone who wants to know, however, only within the last year have I realized and become aware that some of my closest friends and family deal with similar issues.\n",
      "After realizing that there are plenty of people who have rarely opened up to others about how they are feeling or what they might be going through I decided to be more vocal about my own struggles and also make it a point to check in with my loved ones. Not just a standard how are you feeling today, but really listening for cues that I may have missed in the past. This has helped to grow and improve the relationships closest to me.\n",
      "Read more: When to drop the L-bomb, according to science\n",
      "To some, medication or therapy may not appeal, so I always encourage Headspace. It’s an easy, discreet, and convenient way to navigate the life of the mind. After my boyfriend and I both started practicing meditation our relationship instantly felt stronger. We became educated as to how to deal with busy, traffic-like thoughts and could then refer to it in our communication with one another. Additional doors opened, including some with heightened understanding, and most importantly more growth in our relationship.\n",
      "The stigma surrounding mental health is improving, but as an entire community we have a distance to go, still. Too many children and adults feel stuck in their thoughts, feelings, and fears. I understand that not everyone wants to declare mental illness from a mountaintop, but instead, I encourage you to be more compassionate to others when they suddenly don’t feel like hanging out. Rather than writing them off as a bailing friend and taking it personally, take a moment to make sure they are actually okay and definitely keep inviting them.\n",
      "The author of this post is an editorial contributor to Headspace. These are their views, experiences and results and theirs alone. This contributor was paid for their writing.\n",
      "Artwork by KAREN HONG\n",
      "\n"
     ]
    }
   ],
   "source": [
    "hs = pd.read_excel('headspace_0724.xlsx')\n",
    "\n",
    "# Here we can print chosen articles\n",
    "\n",
    "for i in hs.index.values[:2]:\n",
    "    print(hs['link'][i]+'\\n')\n",
    "    print('Author:'+' '+hs['author'][i]+'\\n')\n",
    "    print('Title:'+' '+hs['title'][i]+'\\n')\n",
    "    print('Publication year:'+' '+np.array_str(hs['year'][i])+'\\n')\n",
    "    #print('Publication date:'+' '+''.join(hs['date'][i])+'\\n')\n",
    "    print(hs['text'][i]+'\\n')"
   ]
  },
  {
   "cell_type": "code",
   "execution_count": 66,
   "metadata": {},
   "outputs": [
    {
     "data": {
      "text/html": [
       "<div>\n",
       "<style scoped>\n",
       "    .dataframe tbody tr th:only-of-type {\n",
       "        vertical-align: middle;\n",
       "    }\n",
       "\n",
       "    .dataframe tbody tr th {\n",
       "        vertical-align: top;\n",
       "    }\n",
       "\n",
       "    .dataframe thead th {\n",
       "        text-align: right;\n",
       "    }\n",
       "</style>\n",
       "<table border=\"1\" class=\"dataframe\">\n",
       "  <thead>\n",
       "    <tr style=\"text-align: right;\">\n",
       "      <th></th>\n",
       "      <th>author</th>\n",
       "      <th>link</th>\n",
       "      <th>text</th>\n",
       "      <th>title</th>\n",
       "      <th>year</th>\n",
       "      <th>date</th>\n",
       "    </tr>\n",
       "    <tr>\n",
       "      <th>category</th>\n",
       "      <th></th>\n",
       "      <th></th>\n",
       "      <th></th>\n",
       "      <th></th>\n",
       "      <th></th>\n",
       "      <th></th>\n",
       "    </tr>\n",
       "  </thead>\n",
       "  <tbody>\n",
       "    <tr>\n",
       "      <th>BIRTH</th>\n",
       "      <td>4</td>\n",
       "      <td>4</td>\n",
       "      <td>4</td>\n",
       "      <td>4</td>\n",
       "      <td>4</td>\n",
       "      <td>4</td>\n",
       "    </tr>\n",
       "    <tr>\n",
       "      <th>BIRTH / DEATH</th>\n",
       "      <td>1</td>\n",
       "      <td>1</td>\n",
       "      <td>1</td>\n",
       "      <td>1</td>\n",
       "      <td>1</td>\n",
       "      <td>1</td>\n",
       "    </tr>\n",
       "    <tr>\n",
       "      <th>BIRTH / MEDITATION</th>\n",
       "      <td>1</td>\n",
       "      <td>1</td>\n",
       "      <td>1</td>\n",
       "      <td>1</td>\n",
       "      <td>1</td>\n",
       "      <td>1</td>\n",
       "    </tr>\n",
       "    <tr>\n",
       "      <th>DEATH</th>\n",
       "      <td>39</td>\n",
       "      <td>39</td>\n",
       "      <td>39</td>\n",
       "      <td>39</td>\n",
       "      <td>39</td>\n",
       "      <td>39</td>\n",
       "    </tr>\n",
       "    <tr>\n",
       "      <th>DEATH / LIVING</th>\n",
       "      <td>2</td>\n",
       "      <td>2</td>\n",
       "      <td>2</td>\n",
       "      <td>2</td>\n",
       "      <td>2</td>\n",
       "      <td>2</td>\n",
       "    </tr>\n",
       "    <tr>\n",
       "      <th>DEATH / MIND</th>\n",
       "      <td>1</td>\n",
       "      <td>1</td>\n",
       "      <td>1</td>\n",
       "      <td>1</td>\n",
       "      <td>1</td>\n",
       "      <td>1</td>\n",
       "    </tr>\n",
       "    <tr>\n",
       "      <th>DEATH / WORK</th>\n",
       "      <td>1</td>\n",
       "      <td>1</td>\n",
       "      <td>1</td>\n",
       "      <td>1</td>\n",
       "      <td>1</td>\n",
       "      <td>1</td>\n",
       "    </tr>\n",
       "    <tr>\n",
       "      <th>HEALTH</th>\n",
       "      <td>91</td>\n",
       "      <td>91</td>\n",
       "      <td>91</td>\n",
       "      <td>91</td>\n",
       "      <td>91</td>\n",
       "      <td>91</td>\n",
       "    </tr>\n",
       "    <tr>\n",
       "      <th>HEALTH / LIVING</th>\n",
       "      <td>73</td>\n",
       "      <td>73</td>\n",
       "      <td>73</td>\n",
       "      <td>73</td>\n",
       "      <td>73</td>\n",
       "      <td>73</td>\n",
       "    </tr>\n",
       "    <tr>\n",
       "      <th>HEALTH / LIVING / MEDITATION</th>\n",
       "      <td>8</td>\n",
       "      <td>8</td>\n",
       "      <td>8</td>\n",
       "      <td>8</td>\n",
       "      <td>8</td>\n",
       "      <td>8</td>\n",
       "    </tr>\n",
       "    <tr>\n",
       "      <th>HEALTH / LIVING / SPORT</th>\n",
       "      <td>1</td>\n",
       "      <td>1</td>\n",
       "      <td>1</td>\n",
       "      <td>1</td>\n",
       "      <td>1</td>\n",
       "      <td>1</td>\n",
       "    </tr>\n",
       "    <tr>\n",
       "      <th>HEALTH / LIVING / WATCH &amp; LISTEN</th>\n",
       "      <td>1</td>\n",
       "      <td>1</td>\n",
       "      <td>1</td>\n",
       "      <td>1</td>\n",
       "      <td>1</td>\n",
       "      <td>1</td>\n",
       "    </tr>\n",
       "    <tr>\n",
       "      <th>HEALTH / MEDITATION</th>\n",
       "      <td>49</td>\n",
       "      <td>49</td>\n",
       "      <td>49</td>\n",
       "      <td>49</td>\n",
       "      <td>49</td>\n",
       "      <td>49</td>\n",
       "    </tr>\n",
       "    <tr>\n",
       "      <th>HEALTH / MEDITATION / SPORT</th>\n",
       "      <td>2</td>\n",
       "      <td>2</td>\n",
       "      <td>2</td>\n",
       "      <td>2</td>\n",
       "      <td>2</td>\n",
       "      <td>2</td>\n",
       "    </tr>\n",
       "    <tr>\n",
       "      <th>HEALTH / MEDITATION / WATCH &amp; LISTEN</th>\n",
       "      <td>1</td>\n",
       "      <td>1</td>\n",
       "      <td>1</td>\n",
       "      <td>1</td>\n",
       "      <td>1</td>\n",
       "      <td>1</td>\n",
       "    </tr>\n",
       "    <tr>\n",
       "      <th>HEALTH / MEDITATION / WORK</th>\n",
       "      <td>3</td>\n",
       "      <td>3</td>\n",
       "      <td>3</td>\n",
       "      <td>3</td>\n",
       "      <td>3</td>\n",
       "      <td>3</td>\n",
       "    </tr>\n",
       "    <tr>\n",
       "      <th>HEALTH / MIND</th>\n",
       "      <td>1</td>\n",
       "      <td>1</td>\n",
       "      <td>1</td>\n",
       "      <td>1</td>\n",
       "      <td>1</td>\n",
       "      <td>1</td>\n",
       "    </tr>\n",
       "    <tr>\n",
       "      <th>HEALTH / SPORT</th>\n",
       "      <td>7</td>\n",
       "      <td>7</td>\n",
       "      <td>7</td>\n",
       "      <td>7</td>\n",
       "      <td>7</td>\n",
       "      <td>7</td>\n",
       "    </tr>\n",
       "    <tr>\n",
       "      <th>HEALTH / WORK</th>\n",
       "      <td>4</td>\n",
       "      <td>4</td>\n",
       "      <td>4</td>\n",
       "      <td>4</td>\n",
       "      <td>4</td>\n",
       "      <td>4</td>\n",
       "    </tr>\n",
       "    <tr>\n",
       "      <th>LIVING</th>\n",
       "      <td>266</td>\n",
       "      <td>266</td>\n",
       "      <td>266</td>\n",
       "      <td>266</td>\n",
       "      <td>266</td>\n",
       "      <td>266</td>\n",
       "    </tr>\n",
       "    <tr>\n",
       "      <th>LIVING / MEDITATION</th>\n",
       "      <td>86</td>\n",
       "      <td>86</td>\n",
       "      <td>86</td>\n",
       "      <td>86</td>\n",
       "      <td>86</td>\n",
       "      <td>86</td>\n",
       "    </tr>\n",
       "    <tr>\n",
       "      <th>LIVING / MEDITATION / SPORT</th>\n",
       "      <td>1</td>\n",
       "      <td>1</td>\n",
       "      <td>1</td>\n",
       "      <td>1</td>\n",
       "      <td>1</td>\n",
       "      <td>1</td>\n",
       "    </tr>\n",
       "    <tr>\n",
       "      <th>LIVING / MEDITATION / UNCATEGORIZED</th>\n",
       "      <td>1</td>\n",
       "      <td>1</td>\n",
       "      <td>1</td>\n",
       "      <td>1</td>\n",
       "      <td>1</td>\n",
       "      <td>1</td>\n",
       "    </tr>\n",
       "    <tr>\n",
       "      <th>LIVING / MEDITATION / WATCH &amp; LISTEN</th>\n",
       "      <td>1</td>\n",
       "      <td>1</td>\n",
       "      <td>1</td>\n",
       "      <td>1</td>\n",
       "      <td>1</td>\n",
       "      <td>1</td>\n",
       "    </tr>\n",
       "    <tr>\n",
       "      <th>LIVING / MEDITATION / WORK</th>\n",
       "      <td>4</td>\n",
       "      <td>4</td>\n",
       "      <td>4</td>\n",
       "      <td>4</td>\n",
       "      <td>4</td>\n",
       "      <td>4</td>\n",
       "    </tr>\n",
       "    <tr>\n",
       "      <th>LIVING / SPORT</th>\n",
       "      <td>6</td>\n",
       "      <td>6</td>\n",
       "      <td>6</td>\n",
       "      <td>6</td>\n",
       "      <td>6</td>\n",
       "      <td>6</td>\n",
       "    </tr>\n",
       "    <tr>\n",
       "      <th>LIVING / WATCH &amp; LISTEN</th>\n",
       "      <td>17</td>\n",
       "      <td>17</td>\n",
       "      <td>17</td>\n",
       "      <td>17</td>\n",
       "      <td>17</td>\n",
       "      <td>17</td>\n",
       "    </tr>\n",
       "    <tr>\n",
       "      <th>LIVING / WORK</th>\n",
       "      <td>15</td>\n",
       "      <td>15</td>\n",
       "      <td>15</td>\n",
       "      <td>15</td>\n",
       "      <td>15</td>\n",
       "      <td>15</td>\n",
       "    </tr>\n",
       "    <tr>\n",
       "      <th>MEDITATION</th>\n",
       "      <td>186</td>\n",
       "      <td>186</td>\n",
       "      <td>185</td>\n",
       "      <td>186</td>\n",
       "      <td>186</td>\n",
       "      <td>186</td>\n",
       "    </tr>\n",
       "    <tr>\n",
       "      <th>MEDITATION / SPORT</th>\n",
       "      <td>22</td>\n",
       "      <td>22</td>\n",
       "      <td>22</td>\n",
       "      <td>22</td>\n",
       "      <td>22</td>\n",
       "      <td>22</td>\n",
       "    </tr>\n",
       "    <tr>\n",
       "      <th>MEDITATION / WATCH &amp; LISTEN</th>\n",
       "      <td>4</td>\n",
       "      <td>4</td>\n",
       "      <td>4</td>\n",
       "      <td>4</td>\n",
       "      <td>4</td>\n",
       "      <td>4</td>\n",
       "    </tr>\n",
       "    <tr>\n",
       "      <th>MEDITATION / WORK</th>\n",
       "      <td>16</td>\n",
       "      <td>16</td>\n",
       "      <td>16</td>\n",
       "      <td>16</td>\n",
       "      <td>16</td>\n",
       "      <td>16</td>\n",
       "    </tr>\n",
       "    <tr>\n",
       "      <th>SPORT</th>\n",
       "      <td>23</td>\n",
       "      <td>23</td>\n",
       "      <td>23</td>\n",
       "      <td>23</td>\n",
       "      <td>23</td>\n",
       "      <td>23</td>\n",
       "    </tr>\n",
       "    <tr>\n",
       "      <th>SPORT / WORK</th>\n",
       "      <td>3</td>\n",
       "      <td>3</td>\n",
       "      <td>3</td>\n",
       "      <td>3</td>\n",
       "      <td>3</td>\n",
       "      <td>3</td>\n",
       "    </tr>\n",
       "    <tr>\n",
       "      <th>WATCH &amp; LISTEN</th>\n",
       "      <td>49</td>\n",
       "      <td>49</td>\n",
       "      <td>49</td>\n",
       "      <td>49</td>\n",
       "      <td>49</td>\n",
       "      <td>49</td>\n",
       "    </tr>\n",
       "    <tr>\n",
       "      <th>WORK</th>\n",
       "      <td>23</td>\n",
       "      <td>23</td>\n",
       "      <td>23</td>\n",
       "      <td>23</td>\n",
       "      <td>23</td>\n",
       "      <td>23</td>\n",
       "    </tr>\n",
       "  </tbody>\n",
       "</table>\n",
       "</div>"
      ],
      "text/plain": [
       "                                      author  link  text  title  year  date\n",
       "category                                                                   \n",
       "BIRTH                                      4     4     4      4     4     4\n",
       "BIRTH / DEATH                              1     1     1      1     1     1\n",
       "BIRTH / MEDITATION                         1     1     1      1     1     1\n",
       "DEATH                                     39    39    39     39    39    39\n",
       "DEATH / LIVING                             2     2     2      2     2     2\n",
       "DEATH / MIND                               1     1     1      1     1     1\n",
       "DEATH / WORK                               1     1     1      1     1     1\n",
       "HEALTH                                    91    91    91     91    91    91\n",
       "HEALTH / LIVING                           73    73    73     73    73    73\n",
       "HEALTH / LIVING / MEDITATION               8     8     8      8     8     8\n",
       "HEALTH / LIVING / SPORT                    1     1     1      1     1     1\n",
       "HEALTH / LIVING / WATCH & LISTEN           1     1     1      1     1     1\n",
       "HEALTH / MEDITATION                       49    49    49     49    49    49\n",
       "HEALTH / MEDITATION / SPORT                2     2     2      2     2     2\n",
       "HEALTH / MEDITATION / WATCH & LISTEN       1     1     1      1     1     1\n",
       "HEALTH / MEDITATION / WORK                 3     3     3      3     3     3\n",
       "HEALTH / MIND                              1     1     1      1     1     1\n",
       "HEALTH / SPORT                             7     7     7      7     7     7\n",
       "HEALTH / WORK                              4     4     4      4     4     4\n",
       "LIVING                                   266   266   266    266   266   266\n",
       "LIVING / MEDITATION                       86    86    86     86    86    86\n",
       "LIVING / MEDITATION / SPORT                1     1     1      1     1     1\n",
       "LIVING / MEDITATION / UNCATEGORIZED        1     1     1      1     1     1\n",
       "LIVING / MEDITATION / WATCH & LISTEN       1     1     1      1     1     1\n",
       "LIVING / MEDITATION / WORK                 4     4     4      4     4     4\n",
       "LIVING / SPORT                             6     6     6      6     6     6\n",
       "LIVING / WATCH & LISTEN                   17    17    17     17    17    17\n",
       "LIVING / WORK                             15    15    15     15    15    15\n",
       "MEDITATION                               186   186   185    186   186   186\n",
       "MEDITATION / SPORT                        22    22    22     22    22    22\n",
       "MEDITATION / WATCH & LISTEN                4     4     4      4     4     4\n",
       "MEDITATION / WORK                         16    16    16     16    16    16\n",
       "SPORT                                     23    23    23     23    23    23\n",
       "SPORT / WORK                               3     3     3      3     3     3\n",
       "WATCH & LISTEN                            49    49    49     49    49    49\n",
       "WORK                                      23    23    23     23    23    23"
      ]
     },
     "execution_count": 66,
     "metadata": {},
     "output_type": "execute_result"
    }
   ],
   "source": [
    "# Articles by cats:\n",
    "hs.groupby('category').count()"
   ]
  },
  {
   "cell_type": "code",
   "execution_count": 22,
   "metadata": {},
   "outputs": [],
   "source": [
    "chart=hs.groupby('year').count()\n",
    "chart.reset_index(inplace=True)\n",
    "chart=chart[chart.year != 2011]\n",
    "chart=chart[chart.year != 2013]"
   ]
  },
  {
   "cell_type": "code",
   "execution_count": 23,
   "metadata": {},
   "outputs": [
    {
     "data": {
      "text/html": [
       "<div>\n",
       "<style scoped>\n",
       "    .dataframe tbody tr th:only-of-type {\n",
       "        vertical-align: middle;\n",
       "    }\n",
       "\n",
       "    .dataframe tbody tr th {\n",
       "        vertical-align: top;\n",
       "    }\n",
       "\n",
       "    .dataframe thead th {\n",
       "        text-align: right;\n",
       "    }\n",
       "</style>\n",
       "<table border=\"1\" class=\"dataframe\">\n",
       "  <thead>\n",
       "    <tr style=\"text-align: right;\">\n",
       "      <th></th>\n",
       "      <th>year</th>\n",
       "      <th>author</th>\n",
       "      <th>category</th>\n",
       "      <th>link</th>\n",
       "      <th>text</th>\n",
       "      <th>title</th>\n",
       "      <th>date</th>\n",
       "    </tr>\n",
       "  </thead>\n",
       "  <tbody>\n",
       "    <tr>\n",
       "      <th>2</th>\n",
       "      <td>2014</td>\n",
       "      <td>99</td>\n",
       "      <td>99</td>\n",
       "      <td>99</td>\n",
       "      <td>98</td>\n",
       "      <td>99</td>\n",
       "      <td>99</td>\n",
       "    </tr>\n",
       "    <tr>\n",
       "      <th>3</th>\n",
       "      <td>2015</td>\n",
       "      <td>194</td>\n",
       "      <td>194</td>\n",
       "      <td>194</td>\n",
       "      <td>194</td>\n",
       "      <td>194</td>\n",
       "      <td>194</td>\n",
       "    </tr>\n",
       "    <tr>\n",
       "      <th>4</th>\n",
       "      <td>2016</td>\n",
       "      <td>308</td>\n",
       "      <td>308</td>\n",
       "      <td>308</td>\n",
       "      <td>308</td>\n",
       "      <td>308</td>\n",
       "      <td>308</td>\n",
       "    </tr>\n",
       "    <tr>\n",
       "      <th>5</th>\n",
       "      <td>2017</td>\n",
       "      <td>367</td>\n",
       "      <td>367</td>\n",
       "      <td>367</td>\n",
       "      <td>367</td>\n",
       "      <td>367</td>\n",
       "      <td>367</td>\n",
       "    </tr>\n",
       "    <tr>\n",
       "      <th>6</th>\n",
       "      <td>2018</td>\n",
       "      <td>43</td>\n",
       "      <td>43</td>\n",
       "      <td>43</td>\n",
       "      <td>43</td>\n",
       "      <td>43</td>\n",
       "      <td>43</td>\n",
       "    </tr>\n",
       "  </tbody>\n",
       "</table>\n",
       "</div>"
      ],
      "text/plain": [
       "   year  author  category  link  text  title  date\n",
       "2  2014      99        99    99    98     99    99\n",
       "3  2015     194       194   194   194    194   194\n",
       "4  2016     308       308   308   308    308   308\n",
       "5  2017     367       367   367   367    367   367\n",
       "6  2018      43        43    43    43     43    43"
      ]
     },
     "execution_count": 23,
     "metadata": {},
     "output_type": "execute_result"
    }
   ],
   "source": [
    "chart"
   ]
  },
  {
   "cell_type": "code",
   "execution_count": 24,
   "metadata": {},
   "outputs": [
    {
     "data": {
      "image/png": "[encoded data removed]",
      "text/plain": [
       "<matplotlib.figure.Figure at 0x1178b3668>"
      ]
     },
     "metadata": {},
     "output_type": "display_data"
    }
   ],
   "source": [
    "sns.set(rc={'figure.figsize':(30,20)})\n",
    "\n",
    "sns.set_style(\"whitegrid\")\n",
    "sns.set_context(\"poster\", font_scale=3)\n",
    "\n",
    "ax = sns.barplot(x='year', y='category', data=chart, linewidth=2.5, facecolor=(1, 1, 1, 0), edgecolor=\".2\")\n",
    "plt.xticks(rotation=45)\n",
    "ax.set(xlabel='', ylabel='no of articles')\n",
    "plt.tight_layout\n",
    "\n",
    "plt.savefig(\"./docs/no_articles.png\")"
   ]
  }
 ],
 "metadata": {
  "anaconda-cloud": {},
  "kernelspec": {
   "display_name": "Python [conda env:myPython]",
   "language": "python",
   "name": "conda-env-myPython-py"
  },
  "language_info": {
   "codemirror_mode": {
    "name": "ipython",
    "version": 3
   },
   "file_extension": ".py",
   "mimetype": "text/x-python",
   "name": "python",
   "nbconvert_exporter": "python",
   "pygments_lexer": "ipython3",
   "version": "3.5.2"
  }
 },
 "nbformat": 4,
 "nbformat_minor": 2
}
